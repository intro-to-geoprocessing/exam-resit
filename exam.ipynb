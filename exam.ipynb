{
 "cells": [
  {
   "cell_type": "markdown",
   "metadata": {},
   "source": [
    "# Intro to Geoprocessing Exam 13 August 2021"
   ]
  },
  {
   "cell_type": "markdown",
   "metadata": {},
   "source": [
    "In this notebook you will complete the final exam for Introduction to Geoprocessing. The notebook is in the format you are used to from the past months of class and course material. You can open it in the online browser-based Jupyterhub environment or choose to download the entire folder and complete the exam in the editor of your choice (e.g. VS Code).\n",
    "\n",
    "The exam consists of two parts. First, you will be asked a series of more theoretical questions about the course's learning objectives. You will have to answer these questions by writing your response in a Markdown cell. The second part of the exam is of a more practical nature, in which you will be asked to complete a few small tasks by writing or correcting some Python code. The number of points you can score for each question (total points = 20) is indicated as well. **Although information from the course material and elsewhere may be helpful in the exam, it is is crucial you answer each question IN YOUR OWN WORDS and WITH YOUR OWN CODE.** You may use the course material, your notes and other information online as your reference but any form of communication with classmates or otherwise (e.g. e-mail, message, slack) is absolutely not allowed.\n",
    "\n",
    "At the end of the exam, you will have to convert your notebook to HTML and submit both the `.html` and the `.ipynb` version on the exam submission page in xToledo. Make sure to check both files to ensure they are complete and correct (i.e. all code, figures and Markdown cells are complete and correctly rendered) as you only have one chance to submit these files. You can create as many code and Markdown cells as you deem necessary for answering the question/task."
   ]
  },
  {
   "cell_type": "markdown",
   "metadata": {},
   "source": [
    "## Part 1: Theoretical questions"
   ]
  },
  {
   "cell_type": "markdown",
   "metadata": {},
   "source": [
    "### Question 1 (3 points)\n",
    "In the course you have been using both vector, as well as raster data sources. Discuss the differences and specific (dis)advantages between these two representations. "
   ]
  },
  {
   "cell_type": "markdown",
   "metadata": {},
   "source": [
    "*Your answer goes here...*"
   ]
  },
  {
   "cell_type": "markdown",
   "metadata": {},
   "source": [
    "### Question 2 (3 points)\n",
    "In spatial analysis, the concept of spatial *weights* plays an important role. Discuss what spatial weights are, and what purpose they can serve in spatial analysis."
   ]
  },
  {
   "cell_type": "markdown",
   "metadata": {},
   "source": [
    "*Your answer goes here...*"
   ]
  },
  {
   "cell_type": "markdown",
   "metadata": {},
   "source": [
    "### Question 3 (3 points)\n",
    "For spatial data analysis in Python, you have used several different data structures. The two most common of these are NumPy Arrays and Pandas DataFrames. For these two data types include at least the following characteristics: the kind of data that can be stored, how elements within the data can be accessed, and when to use certain data types. Try to structure your answer and indicate differences or similarities between the different types. You can use very short code blocks to illustrate."
   ]
  },
  {
   "cell_type": "markdown",
   "metadata": {},
   "source": [
    "*Your answer goes here*"
   ]
  },
  {
   "cell_type": "markdown",
   "metadata": {},
   "source": [
    "## Part 2: Practical tasks"
   ]
  },
  {
   "cell_type": "markdown",
   "metadata": {},
   "source": [
    "In this section you will conduct a series of practical tasks. Use both code and markdown cells to answer each task/question. All necessary libraries are already included in the next code cell but you are responsible for loading the needed datasets into a variable. The location of each dataset is always included in the question text."
   ]
  },
  {
   "cell_type": "code",
   "execution_count": 6,
   "metadata": {
    "tags": []
   },
   "outputs": [
    {
     "data": {
      "text/plain": [
       "DataTransformerRegistry.enable('default')"
      ]
     },
     "execution_count": 6,
     "metadata": {},
     "output_type": "execute_result"
    }
   ],
   "source": [
    "# this cell contains our library imports\n",
    "import pandas as pd\n",
    "import altair as alt\n",
    "import geopandas as geopandas\n",
    "import contextily as cx\n",
    "import folium as folium\n",
    "from pysal.viz import mapclassify\n",
    "import esda as esda\n",
    "import matplotlib.pyplot as plt\n",
    "import numpy as np\n",
    "alt.data_transformers.disable_max_rows()"
   ]
  },
  {
   "cell_type": "markdown",
   "metadata": {},
   "source": [
    "## Question 4 (3 points)\n",
    "You have been provided with a data file (in csv format) that has information on the population in each district in Brussels in 2020. Read in the csv and answer the following questions (with Python code):\n",
    "- What is the total population of the Brussels region in 2020?\n",
    "- How many districts are there with 0 population?\n",
    "- What is the distribution of population across districts, only including districts with more than 1,000 people? (Answer this through creating a histogram)\n",
    "\n",
    "Tip: read in the data with the following command `pd.read_csv('data/brussels-districts-population.csv', sep = ';', decimal = ',')`"
   ]
  },
  {
   "cell_type": "markdown",
   "metadata": {},
   "source": [
    "*Your answer goes here*"
   ]
  },
  {
   "cell_type": "markdown",
   "metadata": {},
   "source": [
    "## Question 5 (4 points)\n",
    "The districts from the previous question have a specific shape and location as well. Perform a join between the URBIS_ADM_MD shapefile (`data/URBIS_ADM_MD/UrbAdm_MONITORING_DISTRICT.shp`) and the `data/brussels-data-export.csv' file in order to create two maps:\n",
    "- A map of the montly rent.\n",
    "- A map of monthly rent relative to the fiscal income (what % of their income do people spend on rent).\n",
    "\n",
    "Make sure your maps have both a legend and a title."
   ]
  },
  {
   "cell_type": "markdown",
   "metadata": {},
   "source": [
    "*Your answer goes here*"
   ]
  },
  {
   "cell_type": "markdown",
   "metadata": {},
   "source": [
    "## Question 6 (2 points)\n",
    "You have been asked to analyze the distribution of Villo (Brussels' bike sharing program) stations across the city. Read in the data (`data/villo/villo.shp`) and perform a spatial join to the URB_ADM_MD district data. With this foundation, perform the following tasks.\n",
    "- Aggregate the data in such a way that you find out the total number of bike stands (`bike_stand`) per district. What are the 3 districts with the highest number of bike share stands?\n",
    "- Create a bar chart of the total number of bike stands per district and make sure to sort the order of the districts in a descending fashion based on the total number of bike stands in each district.\n",
    "- Of course, districts with more people might require more bikes. Join the population data from question 4 and calculate the number of bike stands per 10,000 people. What are the 2 districts with the lowest number of bike stands per resident?"
   ]
  },
  {
   "cell_type": "markdown",
   "metadata": {},
   "source": [
    "*Your answer goes here*"
   ]
  },
  {
   "cell_type": "markdown",
   "metadata": {},
   "source": [
    "## Question 7 (2 points)\n",
    "In this exercise, you will need to use and apply the online documentation of a function you likely have not used before. Below, a very idealised temperature evolution over 24 hours is calculated (in Kelvin) and stored in the `temp` variable.\n",
    "\n",
    "You need to create a figure using `matplotlib`, which visualizes the temperature in Kelvin as a function of the time in hours. Note that `matplotlib.pyplot` is already made available in your notebook as `plt`, as it was in the weekly labs. Your figure should include the following:\n",
    "\n",
    "- The temperature profile in a blue, dashed (- - - -) line. If you don't know how to change the style of a line, a good search term would be 'line style'.\n",
    "- A horizontal, black dotted (....) line to indicate the mean temperature for this time period. Use the function `hlines` for this purpose, see documentation https://matplotlib.org/3.1.1/api/_as_gen/matplotlib.pyplot.hlines.html.\n",
    "- Annotate the mean temperature with an appropriate label through annotation (https://matplotlib.org/3.1.1/api/_as_gen/matplotlib.pyplot.annotate.html#matplotlib.pyplot.annotate), indicating what the meaning of the line is, as well as the actual mean temperature (in Kelvin).\n",
    "- Axis labels, title and legend. If you do not know how to do this, have a look at\n",
    "https://matplotlib.org/3.1.1/api/_as_gen/matplotlib.pyplot.title.html\n",
    "https://matplotlib.org/3.1.1/api/_as_gen/matplotlib.pyplot.xlabel.html#matplotlib.pyplot.xlabel\n",
    "https://matplotlib.org/3.1.1/api/_as_gen/matplotlib.pyplot.legend.html#matplotlib.pyplot.legend"
   ]
  },
  {
   "cell_type": "code",
   "execution_count": 7,
   "metadata": {},
   "outputs": [],
   "source": [
    "temp = []\n",
    "for i in range(24):\n",
    "    t = 3 * np.sin((i - 6) * 2 * np.pi / 24) + (i - 15)**2 / 100 + 290\n",
    "    temp.append(t)"
   ]
  },
  {
   "cell_type": "markdown",
   "metadata": {},
   "source": [
    "*Your answer goes here*"
   ]
  }
 ],
 "metadata": {
  "interpreter": {
   "hash": "d08e8b3bc412ba49662ffc78c691e737c3f56f08e88f63b143cd2c946052c1a4"
  },
  "kernelspec": {
   "display_name": "Python 3.8.3 64-bit ('base': conda)",
   "name": "python3"
  },
  "language_info": {
   "name": "python",
   "version": ""
  },
  "orig_nbformat": 2
 },
 "nbformat": 4,
 "nbformat_minor": 2
}